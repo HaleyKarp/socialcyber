{
 "cells": [
  {
   "cell_type": "code",
   "execution_count": 2,
   "metadata": {},
   "outputs": [
    {
     "name": "stdout",
     "output_type": "stream",
     "text": [
      "['/Users/haley.karp/Desktop/vscode/socialcyber/Reachability', '/Users/haley.karp/Desktop/vscode/socialcyber/Reachability/reachability_sandbox', '/Users/haley.karp/Desktop/vscode/socialcyber/Reachability/tree-sitter-repos', '/Users/haley.karp/Desktop/vscode/socialcyber/Reachability/tree-sitter-repos/tree-sitter-go', '/Users/haley.karp/Desktop/vscode/socialcyber/Reachability/tree-sitter-repos/tree-sitter-python', '/Users/haley.karp/Desktop/vscode/socialcyber/Reachability/tree-sitter-repos/tree-sitter-javascript', '/Users/haley.karp/Desktop/vscode/socialcyber/Reachability/build', '/Users/haley.karp/Desktop/vscode/socialcyber/Reachability/.git', '/Users/haley.karp/Desktop/vscode/socialcyber/Reachability/.git/objects', '/Users/haley.karp/Desktop/vscode/socialcyber/Reachability/.git/objects/pack', '/Users/haley.karp/Desktop/vscode/socialcyber/Reachability/.git/objects/info', '/Users/haley.karp/Desktop/vscode/socialcyber/Reachability/.git/info', '/Users/haley.karp/Desktop/vscode/socialcyber/Reachability/.git/logs', '/Users/haley.karp/Desktop/vscode/socialcyber/Reachability/.git/logs/refs', '/Users/haley.karp/Desktop/vscode/socialcyber/Reachability/.git/logs/refs/heads', '/Users/haley.karp/Desktop/vscode/socialcyber/Reachability/.git/logs/refs/remotes', '/Users/haley.karp/Desktop/vscode/socialcyber/Reachability/.git/logs/refs/remotes/origin', '/Users/haley.karp/Desktop/vscode/socialcyber/Reachability/.git/hooks', '/Users/haley.karp/Desktop/vscode/socialcyber/Reachability/.git/refs', '/Users/haley.karp/Desktop/vscode/socialcyber/Reachability/.git/refs/heads', '/Users/haley.karp/Desktop/vscode/socialcyber/Reachability/.git/refs/tags', '/Users/haley.karp/Desktop/vscode/socialcyber/Reachability/.git/refs/remotes', '/Users/haley.karp/Desktop/vscode/socialcyber/Reachability/.git/refs/remotes/origin']\n"
     ]
    }
   ],
   "source": [
    "import os\n",
    "\n",
    "path = (r\"/Users/haley.karp/Desktop/vscode/socialcyber/Reachability\")\n",
    "\n",
    "dirp_list = []\n",
    "for dirpath, subdirs, files in os.walk(path):\n",
    "    dirp_list.append(dirpath)\n",
    "\n",
    "print(dirp_list)"
   ]
  },
  {
   "cell_type": "code",
   "execution_count": 4,
   "metadata": {},
   "outputs": [
    {
     "data": {
      "text/plain": [
       "os.stat_result(st_mode=16877, st_ino=1095835, st_dev=16777233, st_nlink=14, st_uid=502, st_gid=20, st_size=448, st_atime=1686144209, st_mtime=1686144203, st_ctime=1686144203)"
      ]
     },
     "execution_count": 4,
     "metadata": {},
     "output_type": "execute_result"
    }
   ],
   "source": [
    "os.stat(path)"
   ]
  }
 ],
 "metadata": {
  "kernelspec": {
   "display_name": "test_environment",
   "language": "python",
   "name": "python3"
  },
  "language_info": {
   "codemirror_mode": {
    "name": "ipython",
    "version": 3
   },
   "file_extension": ".py",
   "mimetype": "text/x-python",
   "name": "python",
   "nbconvert_exporter": "python",
   "pygments_lexer": "ipython3",
   "version": "3.11.3"
  },
  "orig_nbformat": 4
 },
 "nbformat": 4,
 "nbformat_minor": 2
}
